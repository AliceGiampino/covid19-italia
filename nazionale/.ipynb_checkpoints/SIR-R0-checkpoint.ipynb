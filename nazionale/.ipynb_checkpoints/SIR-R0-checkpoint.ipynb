{
 "cells": [
  {
   "cell_type": "code",
   "execution_count": 1,
   "metadata": {},
   "outputs": [],
   "source": [
    "import numpy as np\n",
    "import matplotlib.pyplot as plt\n",
    "import pandas as pd\n",
    "from scipy.integrate import odeint\n",
    "import time as pctime"
   ]
  },
  {
   "cell_type": "markdown",
   "metadata": {},
   "source": [
    "# load national data"
   ]
  },
  {
   "cell_type": "code",
   "execution_count": 2,
   "metadata": {},
   "outputs": [
    {
     "name": "stdout",
     "output_type": "stream",
     "text": [
      "data                          2020-04-22T17:00:00\n",
      "stato                                         ITA\n",
      "ricoverati_con_sintomi                      23805\n",
      "terapia_intensiva                            2384\n",
      "totale_ospedalizzati                        26189\n",
      "isolamento_domiciliare                      81510\n",
      "totale_positivi                            107699\n",
      "variazione_totale_positivi                    -10\n",
      "nuovi_positivi                               3370\n",
      "dimessi_guariti                             54543\n",
      "deceduti                                    25085\n",
      "totale_casi                                187327\n",
      "tamponi                                   1513251\n",
      "casi_testati                          1.01549e+06\n",
      "note_it                                       NaN\n",
      "note_en                                       NaN\n",
      "Name: 58, dtype: object\n"
     ]
    },
    {
     "data": {
      "text/html": [
       "<div>\n",
       "<style scoped>\n",
       "    .dataframe tbody tr th:only-of-type {\n",
       "        vertical-align: middle;\n",
       "    }\n",
       "\n",
       "    .dataframe tbody tr th {\n",
       "        vertical-align: top;\n",
       "    }\n",
       "\n",
       "    .dataframe thead th {\n",
       "        text-align: right;\n",
       "    }\n",
       "</style>\n",
       "<table border=\"1\" class=\"dataframe\">\n",
       "  <thead>\n",
       "    <tr style=\"text-align: right;\">\n",
       "      <th></th>\n",
       "      <th>data</th>\n",
       "      <th>stato</th>\n",
       "      <th>ricoverati_con_sintomi</th>\n",
       "      <th>terapia_intensiva</th>\n",
       "      <th>totale_ospedalizzati</th>\n",
       "      <th>isolamento_domiciliare</th>\n",
       "      <th>totale_positivi</th>\n",
       "      <th>variazione_totale_positivi</th>\n",
       "      <th>nuovi_positivi</th>\n",
       "      <th>dimessi_guariti</th>\n",
       "      <th>deceduti</th>\n",
       "      <th>totale_casi</th>\n",
       "      <th>tamponi</th>\n",
       "      <th>casi_testati</th>\n",
       "      <th>note_it</th>\n",
       "      <th>note_en</th>\n",
       "    </tr>\n",
       "  </thead>\n",
       "  <tbody>\n",
       "    <tr>\n",
       "      <th>0</th>\n",
       "      <td>2020-02-24T18:00:00</td>\n",
       "      <td>ITA</td>\n",
       "      <td>101</td>\n",
       "      <td>26</td>\n",
       "      <td>127</td>\n",
       "      <td>94</td>\n",
       "      <td>221</td>\n",
       "      <td>0</td>\n",
       "      <td>221</td>\n",
       "      <td>1</td>\n",
       "      <td>7</td>\n",
       "      <td>229</td>\n",
       "      <td>4324</td>\n",
       "      <td>NaN</td>\n",
       "      <td>NaN</td>\n",
       "      <td>NaN</td>\n",
       "    </tr>\n",
       "    <tr>\n",
       "      <th>1</th>\n",
       "      <td>2020-02-25T18:00:00</td>\n",
       "      <td>ITA</td>\n",
       "      <td>114</td>\n",
       "      <td>35</td>\n",
       "      <td>150</td>\n",
       "      <td>162</td>\n",
       "      <td>311</td>\n",
       "      <td>90</td>\n",
       "      <td>93</td>\n",
       "      <td>1</td>\n",
       "      <td>10</td>\n",
       "      <td>322</td>\n",
       "      <td>8623</td>\n",
       "      <td>NaN</td>\n",
       "      <td>NaN</td>\n",
       "      <td>NaN</td>\n",
       "    </tr>\n",
       "    <tr>\n",
       "      <th>2</th>\n",
       "      <td>2020-02-26T18:00:00</td>\n",
       "      <td>ITA</td>\n",
       "      <td>128</td>\n",
       "      <td>36</td>\n",
       "      <td>164</td>\n",
       "      <td>221</td>\n",
       "      <td>385</td>\n",
       "      <td>74</td>\n",
       "      <td>78</td>\n",
       "      <td>3</td>\n",
       "      <td>12</td>\n",
       "      <td>400</td>\n",
       "      <td>9587</td>\n",
       "      <td>NaN</td>\n",
       "      <td>NaN</td>\n",
       "      <td>NaN</td>\n",
       "    </tr>\n",
       "    <tr>\n",
       "      <th>3</th>\n",
       "      <td>2020-02-27T18:00:00</td>\n",
       "      <td>ITA</td>\n",
       "      <td>248</td>\n",
       "      <td>56</td>\n",
       "      <td>304</td>\n",
       "      <td>284</td>\n",
       "      <td>588</td>\n",
       "      <td>203</td>\n",
       "      <td>250</td>\n",
       "      <td>45</td>\n",
       "      <td>17</td>\n",
       "      <td>650</td>\n",
       "      <td>12014</td>\n",
       "      <td>NaN</td>\n",
       "      <td>NaN</td>\n",
       "      <td>NaN</td>\n",
       "    </tr>\n",
       "    <tr>\n",
       "      <th>4</th>\n",
       "      <td>2020-02-28T18:00:00</td>\n",
       "      <td>ITA</td>\n",
       "      <td>345</td>\n",
       "      <td>64</td>\n",
       "      <td>409</td>\n",
       "      <td>412</td>\n",
       "      <td>821</td>\n",
       "      <td>233</td>\n",
       "      <td>238</td>\n",
       "      <td>46</td>\n",
       "      <td>21</td>\n",
       "      <td>888</td>\n",
       "      <td>15695</td>\n",
       "      <td>NaN</td>\n",
       "      <td>NaN</td>\n",
       "      <td>NaN</td>\n",
       "    </tr>\n",
       "  </tbody>\n",
       "</table>\n",
       "</div>"
      ],
      "text/plain": [
       "                  data stato  ricoverati_con_sintomi  terapia_intensiva  \\\n",
       "0  2020-02-24T18:00:00   ITA                     101                 26   \n",
       "1  2020-02-25T18:00:00   ITA                     114                 35   \n",
       "2  2020-02-26T18:00:00   ITA                     128                 36   \n",
       "3  2020-02-27T18:00:00   ITA                     248                 56   \n",
       "4  2020-02-28T18:00:00   ITA                     345                 64   \n",
       "\n",
       "   totale_ospedalizzati  isolamento_domiciliare  totale_positivi  \\\n",
       "0                   127                      94              221   \n",
       "1                   150                     162              311   \n",
       "2                   164                     221              385   \n",
       "3                   304                     284              588   \n",
       "4                   409                     412              821   \n",
       "\n",
       "   variazione_totale_positivi  nuovi_positivi  dimessi_guariti  deceduti  \\\n",
       "0                           0             221                1         7   \n",
       "1                          90              93                1        10   \n",
       "2                          74              78                3        12   \n",
       "3                         203             250               45        17   \n",
       "4                         233             238               46        21   \n",
       "\n",
       "   totale_casi  tamponi  casi_testati note_it note_en  \n",
       "0          229     4324           NaN     NaN     NaN  \n",
       "1          322     8623           NaN     NaN     NaN  \n",
       "2          400     9587           NaN     NaN     NaN  \n",
       "3          650    12014           NaN     NaN     NaN  \n",
       "4          888    15695           NaN     NaN     NaN  "
      ]
     },
     "execution_count": 2,
     "metadata": {},
     "output_type": "execute_result"
    }
   ],
   "source": [
    "# dati cumulativi\n",
    "\n",
    "data = pd.read_csv('https://github.com/pcm-dpc/COVID-19/raw/master/dati-andamento-nazionale/dpc-covid19-ita-andamento-nazionale.csv')\n",
    "xdata=pd.to_numeric(range(data.shape[0]))\n",
    "ydata=data['totale_casi']\n",
    "ydata_death=data['deceduti']\n",
    "ydata_rec=data['dimessi_guariti']\n",
    "\n",
    "ydata_inf=ydata-ydata_rec-ydata_death\n",
    "\n",
    "print(data.iloc[-1,:])\n",
    "\n",
    "data.head()"
   ]
  },
  {
   "cell_type": "code",
   "execution_count": 3,
   "metadata": {},
   "outputs": [],
   "source": [
    "# dati differenziali\n",
    "\n",
    "ydata_incr=[]\n",
    "ydata_death_incr=[]\n",
    "ydata_rec_incr=[]\n",
    "\n",
    "for i in range(len(ydata)-1):\n",
    "    ydata_incr.append(ydata[i+1]-ydata[i])\n",
    "    ydata_death_incr.append(ydata_death[i+1]-ydata_death[i])\n",
    "    ydata_rec_incr.append(ydata_rec[i+1]-ydata_rec[i])"
   ]
  },
  {
   "cell_type": "code",
   "execution_count": 4,
   "metadata": {},
   "outputs": [
    {
     "data": {
      "image/png": "[encoded data removed]",
      "text/plain": [
       "<Figure size 432x288 with 1 Axes>"
      ]
     },
     "metadata": {
      "needs_background": "light"
     },
     "output_type": "display_data"
    }
   ],
   "source": [
    "plt.plot(np.arange(len(ydata)),ydata,label='Totale casi')\n",
    "plt.plot(np.arange(len(ydata)),ydata_death,label='Deceduti')\n",
    "plt.plot(np.arange(len(ydata)),ydata_rec,label='Guariti')\n",
    "plt.xticks(np.arange(0,100,7),['24 Feb','2 Mar','9 Mar','16 Mar','23 Mar','30 Mar','6 Apr','13 Apr','20 Apr','27 Apr','4 Mag','11 Mag','18 Mag','25 Mag','1 Giu'],rotation=30)\n",
    "plt.xlim(0,len(ydata))\n",
    "plt.ylabel('Numero')\n",
    "plt.title('Funzioni cumulative')\n",
    "plt.legend()\n",
    "#plt.savefig('output3/dataonly.png')\n",
    "plt.show()"
   ]
  },
  {
   "cell_type": "code",
   "execution_count": 5,
   "metadata": {},
   "outputs": [
    {
     "data": {
      "image/png": "[encoded data removed]",
      "text/plain": [
       "<Figure size 432x288 with 1 Axes>"
      ]
     },
     "metadata": {
      "needs_background": "light"
     },
     "output_type": "display_data"
    }
   ],
   "source": [
    "plt.plot(np.arange(len(ydata_incr)),ydata_incr,label='Nuovi casi')\n",
    "plt.plot(np.arange(len(ydata_incr)),ydata_death_incr,label='Deceduti giornalieri')\n",
    "plt.plot(np.arange(len(ydata_incr)),ydata_rec_incr,label='Guariti giornalieri')\n",
    "plt.xticks(np.arange(-1,100,7),['24 Feb','2 Mar','9 Mar','16 Mar','23 Mar','30 Mar','6 Apr','13 Apr','20 Apr','27 Apr','4 Mag','11 Mag','18 Mag','25 Mag','1 Giu'],rotation=30)\n",
    "plt.xlim(-1,len(ydata_incr))\n",
    "plt.ylabel('Numero')\n",
    "plt.title('Funzioni incrementali')\n",
    "plt.legend()\n",
    "#plt.savefig('output3/dataonly_deriv.png')\n",
    "plt.show()"
   ]
  },
  {
   "cell_type": "code",
   "execution_count": 6,
   "metadata": {},
   "outputs": [
    {
     "data": {
      "image/png": "[encoded data removed]",
      "text/plain": [
       "<Figure size 432x288 with 1 Axes>"
      ]
     },
     "metadata": {
      "needs_background": "light"
     },
     "output_type": "display_data"
    }
   ],
   "source": [
    "plt.plot(np.arange(len(ydata_inf)),ydata_inf,color='red',marker='.',markersize=5,label='Infetti attivi')\n",
    "plt.xticks(np.arange(0,100,7),['24 Feb','2 Mar','9 Mar','16 Mar','23 Mar','30 Mar','6 Apr','13 Apr','20 Apr','27 Apr','4 Mag','11 Mag','18 Mag','25 Mag','1 Giu'],rotation=30)\n",
    "plt.xlim(0,len(ydata))\n",
    "#plt.ylim(0,120000)\n",
    "plt.xlabel('Data')\n",
    "plt.ylabel('Numero')\n",
    "plt.legend()\n",
    "plt.grid(color='gray', linestyle='--', linewidth=0.5)\n",
    "plt.tight_layout()\n",
    "#plt.savefig('output3/sirdatacomp_prediction_dataonly.png',dpi=300)\n",
    "plt.show()"
   ]
  },
  {
   "cell_type": "markdown",
   "metadata": {},
   "source": [
    "# definition of the models"
   ]
  },
  {
   "cell_type": "markdown",
   "metadata": {},
   "source": [
    "### definition of SIR 1.0"
   ]
  },
  {
   "cell_type": "code",
   "execution_count": 7,
   "metadata": {},
   "outputs": [],
   "source": [
    "# The SIR model differential equations.\n",
    "def deriv_SIR(y, t, N, beta,gamma):\n",
    "    S,I,R = y\n",
    "\n",
    "    dSdt = -(beta*I/N)*S \n",
    "    dIdt = (beta*S/N)*I - gamma*I \n",
    "    dRdt = gamma*I \n",
    "    \n",
    "    return dSdt, dIdt, dRdt\n",
    "\n",
    "def SIR(N,beta,gamma,I0=1,R0=0,t=np.arange(0,365)):\n",
    "    # Definition of the initial conditions\n",
    "    # I0 and R0 denotes the number of initial infected people (I0) \n",
    "    # and the number of people that recovered and are immunized (R0)\n",
    "    \n",
    "    # t ise the timegrid\n",
    "    \n",
    "    S0=N-I0-R0  # number of people that can still contract the virus\n",
    "    \n",
    "    # Initial conditions vector\n",
    "    y0 = S0, I0, R0\n",
    "\n",
    "    # Integrate the SIR equations over the time grid, t.\n",
    "    ret = odeint(deriv_SIR, y0, t, args=(N,beta,gamma))\n",
    "    S, I, R = np.transpose(ret)\n",
    "    \n",
    "    return (t,S,I,R)"
   ]
  },
  {
   "cell_type": "markdown",
   "metadata": {},
   "source": [
    "### definition of SIR 2.0 "
   ]
  },
  {
   "cell_type": "code",
   "execution_count": 8,
   "metadata": {},
   "outputs": [],
   "source": [
    "# The SIR model differential equations.\n",
    "def deriv_SIR_2(y, t, N, beta1,gamma,tau=10**6,t_thresh=14):\n",
    "    S,I,R = y\n",
    "    \n",
    "    if t<=t_thresh:      # il lockdown nazionale inizia al 14° giorno \n",
    "        B=beta1\n",
    "    else: \n",
    "        B=beta1*np.exp(-(t-t_thresh)/tau)\n",
    "\n",
    "    dSdt = -(B*I/N)*S \n",
    "    dIdt = (B*S/N)*I - gamma*I \n",
    "    dRdt = gamma*I \n",
    "    \n",
    "    return dSdt, dIdt, dRdt\n",
    "\n",
    "\n",
    "def SIR_2(N,beta1,gamma,tau=10**6,t_thresh=14,I0=1,R0=0,t=np.arange(0,365)):\n",
    "    # Definition of the initial conditions\n",
    "    # I0 and R0 denotes the number of initial infected people (I0) \n",
    "    # and the number of people that recovered and are immunized (R0)\n",
    "    \n",
    "    # t ise the timegrid\n",
    "    \n",
    "    S0=N-I0-R0  # number of people that can still contract the virus\n",
    "    \n",
    "    # Initial conditions vector\n",
    "    y0 = S0, I0, R0\n",
    "\n",
    "    # Integrate the SIR equations over the time grid, t.\n",
    "    ret = odeint(deriv_SIR_2, y0, t, args=(N,beta1,gamma,tau,t_thresh))\n",
    "    S, I, R = np.transpose(ret)\n",
    "    \n",
    "    return (t,S,I,R)"
   ]
  },
  {
   "cell_type": "markdown",
   "metadata": {},
   "source": [
    "# fitting the active infected"
   ]
  },
  {
   "cell_type": "code",
   "execution_count": 9,
   "metadata": {},
   "outputs": [],
   "source": [
    "# 3 parameter fit for the active infected\n",
    "\n",
    "def optimizer_adv(R0,tau,t_thresh):\n",
    "    fin_result_updated=SIR_2(6*10**7,R0*1/14,1/14,tau,t_thresh,I0=3*ydata_inf[0])\n",
    "    i_vec=fin_result_updated[2]/3\n",
    "    \n",
    "    pesi=np.exp(-np.arange(len(ydata_inf))/7)    # \n",
    "    pesi=pesi[::-1]\n",
    "    \n",
    "    accuracy=np.sum((ydata_inf-i_vec[0:len(ydata_inf)])**2/ydata_inf**2*pesi)   #mean squared error. This is used for the optimization\n",
    "    \n",
    "    errperc=np.mean(np.abs((ydata_inf-i_vec[0:len(ydata_inf)])/ydata_inf))*100\n",
    "    stdperc=np.std(np.abs((ydata_inf-i_vec[0:len(ydata_inf)])/ydata_inf))*100\n",
    "    \n",
    "    return accuracy,errperc,stdperc"
   ]
  },
  {
   "cell_type": "code",
   "execution_count": 10,
   "metadata": {},
   "outputs": [
    {
     "name": "stdout",
     "output_type": "stream",
     "text": [
      "completed  10.0 %. Remaining time  5.3 sec\n",
      "completed  20.0 %. Remaining time  5.2 sec\n",
      "completed  30.0 %. Remaining time  5.5 sec\n",
      "completed  40.0 %. Remaining time  4.6 sec\n",
      "completed  50.0 %. Remaining time  3.9 sec\n",
      "completed  60.0 %. Remaining time  3.1 sec\n",
      "completed  70.0 %. Remaining time  2.3 sec\n",
      "completed  80.0 %. Remaining time  1.5 sec\n",
      "completed  90.0 %. Remaining time  0.7 sec\n",
      "completed  100.0 %. Remaining time  0.0 sec\n"
     ]
    }
   ],
   "source": [
    "# grid on 3 parameters\n",
    "R0grid=np.linspace(4.5,5.5,10)\n",
    "taugrid=np.linspace(27,30,10)\n",
    "ttreshgrid=np.linspace(3,7,10)\n",
    "\n",
    "res_scan=[]\n",
    "counter=0\n",
    "counter2=0\n",
    "cycle_tot=len(R0grid)*len(taugrid)*len(ttreshgrid)\n",
    "\n",
    "time1=pctime.time()\n",
    "\n",
    "# minimization\n",
    "\n",
    "for r in R0grid:\n",
    "    for tau in taugrid:\n",
    "        for tt in ttreshgrid:\n",
    "            opt_res=optimizer_adv(r,tau,tt)\n",
    "            res_scan.append([r,tau,tt,opt_res[0],opt_res[1],opt_res[2]])\n",
    "            counter=counter+1\n",
    "            counter2=counter2+1\n",
    "            if counter2==cycle_tot/10:\n",
    "                time2=pctime.time()\n",
    "                remtime=round((time2-time1)/counter*(cycle_tot-counter),1)\n",
    "                print('completed ',round(counter/cycle_tot*100,1),'%. Remaining time ',remtime,'sec')\n",
    "                counter2=0\n",
    "        \n",
    "res_scan=np.array(res_scan)"
   ]
  },
  {
   "cell_type": "code",
   "execution_count": 11,
   "metadata": {},
   "outputs": [
    {
     "data": {
      "text/html": [
       "<div>\n",
       "<style scoped>\n",
       "    .dataframe tbody tr th:only-of-type {\n",
       "        vertical-align: middle;\n",
       "    }\n",
       "\n",
       "    .dataframe tbody tr th {\n",
       "        vertical-align: top;\n",
       "    }\n",
       "\n",
       "    .dataframe thead th {\n",
       "        text-align: right;\n",
       "    }\n",
       "</style>\n",
       "<table border=\"1\" class=\"dataframe\">\n",
       "  <thead>\n",
       "    <tr style=\"text-align: right;\">\n",
       "      <th></th>\n",
       "      <th>R0</th>\n",
       "      <th>tau</th>\n",
       "      <th>t_thresh</th>\n",
       "      <th>MSE</th>\n",
       "      <th>mean err%</th>\n",
       "      <th>std err%</th>\n",
       "    </tr>\n",
       "  </thead>\n",
       "  <tbody>\n",
       "    <tr>\n",
       "      <th>591</th>\n",
       "      <td>5.055556</td>\n",
       "      <td>30.000000</td>\n",
       "      <td>3.444444</td>\n",
       "      <td>0.009183</td>\n",
       "      <td>6.716997</td>\n",
       "      <td>4.902773</td>\n",
       "    </tr>\n",
       "    <tr>\n",
       "      <th>287</th>\n",
       "      <td>4.722222</td>\n",
       "      <td>29.666667</td>\n",
       "      <td>6.111111</td>\n",
       "      <td>0.009858</td>\n",
       "      <td>9.047826</td>\n",
       "      <td>6.778251</td>\n",
       "    </tr>\n",
       "    <tr>\n",
       "      <th>385</th>\n",
       "      <td>4.833333</td>\n",
       "      <td>29.666667</td>\n",
       "      <td>5.222222</td>\n",
       "      <td>0.010029</td>\n",
       "      <td>7.939686</td>\n",
       "      <td>5.955766</td>\n",
       "    </tr>\n",
       "    <tr>\n",
       "      <th>189</th>\n",
       "      <td>4.611111</td>\n",
       "      <td>29.666667</td>\n",
       "      <td>7.000000</td>\n",
       "      <td>0.010250</td>\n",
       "      <td>10.416650</td>\n",
       "      <td>8.036989</td>\n",
       "    </tr>\n",
       "    <tr>\n",
       "      <th>572</th>\n",
       "      <td>5.055556</td>\n",
       "      <td>29.333333</td>\n",
       "      <td>3.888889</td>\n",
       "      <td>0.011492</td>\n",
       "      <td>5.706477</td>\n",
       "      <td>3.855459</td>\n",
       "    </tr>\n",
       "    <tr>\n",
       "      <th>...</th>\n",
       "      <td>...</td>\n",
       "      <td>...</td>\n",
       "      <td>...</td>\n",
       "      <td>...</td>\n",
       "      <td>...</td>\n",
       "      <td>...</td>\n",
       "    </tr>\n",
       "    <tr>\n",
       "      <th>969</th>\n",
       "      <td>5.500000</td>\n",
       "      <td>29.000000</td>\n",
       "      <td>7.000000</td>\n",
       "      <td>144.451989</td>\n",
       "      <td>245.659257</td>\n",
       "      <td>164.191748</td>\n",
       "    </tr>\n",
       "    <tr>\n",
       "      <th>998</th>\n",
       "      <td>5.500000</td>\n",
       "      <td>30.000000</td>\n",
       "      <td>6.555556</td>\n",
       "      <td>159.158227</td>\n",
       "      <td>247.975654</td>\n",
       "      <td>172.166221</td>\n",
       "    </tr>\n",
       "    <tr>\n",
       "      <th>979</th>\n",
       "      <td>5.500000</td>\n",
       "      <td>29.333333</td>\n",
       "      <td>7.000000</td>\n",
       "      <td>164.831632</td>\n",
       "      <td>257.833112</td>\n",
       "      <td>175.671683</td>\n",
       "    </tr>\n",
       "    <tr>\n",
       "      <th>989</th>\n",
       "      <td>5.500000</td>\n",
       "      <td>29.666667</td>\n",
       "      <td>7.000000</td>\n",
       "      <td>187.414166</td>\n",
       "      <td>270.342511</td>\n",
       "      <td>187.618546</td>\n",
       "    </tr>\n",
       "    <tr>\n",
       "      <th>999</th>\n",
       "      <td>5.500000</td>\n",
       "      <td>30.000000</td>\n",
       "      <td>7.000000</td>\n",
       "      <td>212.366578</td>\n",
       "      <td>283.188364</td>\n",
       "      <td>200.034311</td>\n",
       "    </tr>\n",
       "  </tbody>\n",
       "</table>\n",
       "<p>1000 rows × 6 columns</p>\n",
       "</div>"
      ],
      "text/plain": [
       "           R0        tau  t_thresh         MSE   mean err%    std err%\n",
       "591  5.055556  30.000000  3.444444    0.009183    6.716997    4.902773\n",
       "287  4.722222  29.666667  6.111111    0.009858    9.047826    6.778251\n",
       "385  4.833333  29.666667  5.222222    0.010029    7.939686    5.955766\n",
       "189  4.611111  29.666667  7.000000    0.010250   10.416650    8.036989\n",
       "572  5.055556  29.333333  3.888889    0.011492    5.706477    3.855459\n",
       "..        ...        ...       ...         ...         ...         ...\n",
       "969  5.500000  29.000000  7.000000  144.451989  245.659257  164.191748\n",
       "998  5.500000  30.000000  6.555556  159.158227  247.975654  172.166221\n",
       "979  5.500000  29.333333  7.000000  164.831632  257.833112  175.671683\n",
       "989  5.500000  29.666667  7.000000  187.414166  270.342511  187.618546\n",
       "999  5.500000  30.000000  7.000000  212.366578  283.188364  200.034311\n",
       "\n",
       "[1000 rows x 6 columns]"
      ]
     },
     "execution_count": 11,
     "metadata": {},
     "output_type": "execute_result"
    }
   ],
   "source": [
    "df_res_scan=pd.DataFrame(res_scan)\n",
    "df_res_scan.columns=['R0','tau','t_thresh','MSE','mean err%','std err%']\n",
    "\n",
    "df_res_scan.sort_values(by='MSE')"
   ]
  },
  {
   "cell_type": "code",
   "execution_count": 12,
   "metadata": {},
   "outputs": [
    {
     "data": {
      "text/plain": [
       "array([ 5.05555556, 30.        ,  3.44444444])"
      ]
     },
     "execution_count": 12,
     "metadata": {},
     "output_type": "execute_result"
    }
   ],
   "source": [
    "par_ideal=np.array(df_res_scan.sort_values(by='MSE').iloc[0,0:])\n",
    "\n",
    "par_ideal[0:3]"
   ]
  },
  {
   "cell_type": "code",
   "execution_count": 13,
   "metadata": {},
   "outputs": [
    {
     "ename": "FileNotFoundError",
     "evalue": "[Errno 2] No such file or directory: 'output/fit_con_incertezza.png'",
     "output_type": "error",
     "traceback": [
      "\u001b[0;31m---------------------------------------------------------------------------\u001b[0m",
      "\u001b[0;31mFileNotFoundError\u001b[0m                         Traceback (most recent call last)",
      "\u001b[0;32m<ipython-input-13-33eafb897ede>\u001b[0m in \u001b[0;36m<module>\u001b[0;34m\u001b[0m\n\u001b[1;32m     21\u001b[0m \u001b[0mplt\u001b[0m\u001b[0;34m.\u001b[0m\u001b[0mgrid\u001b[0m\u001b[0;34m(\u001b[0m\u001b[0mcolor\u001b[0m\u001b[0;34m=\u001b[0m\u001b[0;34m'gray'\u001b[0m\u001b[0;34m,\u001b[0m \u001b[0mlinestyle\u001b[0m\u001b[0;34m=\u001b[0m\u001b[0;34m'--'\u001b[0m\u001b[0;34m,\u001b[0m \u001b[0mlinewidth\u001b[0m\u001b[0;34m=\u001b[0m\u001b[0;36m0.5\u001b[0m\u001b[0;34m)\u001b[0m\u001b[0;34m\u001b[0m\u001b[0;34m\u001b[0m\u001b[0m\n\u001b[1;32m     22\u001b[0m \u001b[0mplt\u001b[0m\u001b[0;34m.\u001b[0m\u001b[0mtight_layout\u001b[0m\u001b[0;34m(\u001b[0m\u001b[0;34m)\u001b[0m\u001b[0;34m\u001b[0m\u001b[0;34m\u001b[0m\u001b[0m\n\u001b[0;32m---> 23\u001b[0;31m \u001b[0mplt\u001b[0m\u001b[0;34m.\u001b[0m\u001b[0msavefig\u001b[0m\u001b[0;34m(\u001b[0m\u001b[0;34m'output/fit_con_incertezza.png'\u001b[0m\u001b[0;34m,\u001b[0m\u001b[0mdpi\u001b[0m\u001b[0;34m=\u001b[0m\u001b[0;36m300\u001b[0m\u001b[0;34m)\u001b[0m\u001b[0;34m\u001b[0m\u001b[0;34m\u001b[0m\u001b[0m\n\u001b[0m\u001b[1;32m     24\u001b[0m \u001b[0mplt\u001b[0m\u001b[0;34m.\u001b[0m\u001b[0mshow\u001b[0m\u001b[0;34m(\u001b[0m\u001b[0;34m)\u001b[0m\u001b[0;34m\u001b[0m\u001b[0;34m\u001b[0m\u001b[0m\n",
      "\u001b[0;32m~/anaconda3/lib/python3.6/site-packages/matplotlib/pyplot.py\u001b[0m in \u001b[0;36msavefig\u001b[0;34m(*args, **kwargs)\u001b[0m\n\u001b[1;32m    720\u001b[0m \u001b[0;32mdef\u001b[0m \u001b[0msavefig\u001b[0m\u001b[0;34m(\u001b[0m\u001b[0;34m*\u001b[0m\u001b[0margs\u001b[0m\u001b[0;34m,\u001b[0m \u001b[0;34m**\u001b[0m\u001b[0mkwargs\u001b[0m\u001b[0;34m)\u001b[0m\u001b[0;34m:\u001b[0m\u001b[0;34m\u001b[0m\u001b[0;34m\u001b[0m\u001b[0m\n\u001b[1;32m    721\u001b[0m     \u001b[0mfig\u001b[0m \u001b[0;34m=\u001b[0m \u001b[0mgcf\u001b[0m\u001b[0;34m(\u001b[0m\u001b[0;34m)\u001b[0m\u001b[0;34m\u001b[0m\u001b[0;34m\u001b[0m\u001b[0m\n\u001b[0;32m--> 722\u001b[0;31m     \u001b[0mres\u001b[0m \u001b[0;34m=\u001b[0m \u001b[0mfig\u001b[0m\u001b[0;34m.\u001b[0m\u001b[0msavefig\u001b[0m\u001b[0;34m(\u001b[0m\u001b[0;34m*\u001b[0m\u001b[0margs\u001b[0m\u001b[0;34m,\u001b[0m \u001b[0;34m**\u001b[0m\u001b[0mkwargs\u001b[0m\u001b[0;34m)\u001b[0m\u001b[0;34m\u001b[0m\u001b[0;34m\u001b[0m\u001b[0m\n\u001b[0m\u001b[1;32m    723\u001b[0m     \u001b[0mfig\u001b[0m\u001b[0;34m.\u001b[0m\u001b[0mcanvas\u001b[0m\u001b[0;34m.\u001b[0m\u001b[0mdraw_idle\u001b[0m\u001b[0;34m(\u001b[0m\u001b[0;34m)\u001b[0m   \u001b[0;31m# need this if 'transparent=True' to reset colors\u001b[0m\u001b[0;34m\u001b[0m\u001b[0;34m\u001b[0m\u001b[0m\n\u001b[1;32m    724\u001b[0m     \u001b[0;32mreturn\u001b[0m \u001b[0mres\u001b[0m\u001b[0;34m\u001b[0m\u001b[0;34m\u001b[0m\u001b[0m\n",
      "\u001b[0;32m~/anaconda3/lib/python3.6/site-packages/matplotlib/figure.py\u001b[0m in \u001b[0;36msavefig\u001b[0;34m(self, fname, transparent, **kwargs)\u001b[0m\n\u001b[1;32m   2178\u001b[0m             \u001b[0mself\u001b[0m\u001b[0;34m.\u001b[0m\u001b[0mpatch\u001b[0m\u001b[0;34m.\u001b[0m\u001b[0mset_visible\u001b[0m\u001b[0;34m(\u001b[0m\u001b[0mframeon\u001b[0m\u001b[0;34m)\u001b[0m\u001b[0;34m\u001b[0m\u001b[0;34m\u001b[0m\u001b[0m\n\u001b[1;32m   2179\u001b[0m \u001b[0;34m\u001b[0m\u001b[0m\n\u001b[0;32m-> 2180\u001b[0;31m         \u001b[0mself\u001b[0m\u001b[0;34m.\u001b[0m\u001b[0mcanvas\u001b[0m\u001b[0;34m.\u001b[0m\u001b[0mprint_figure\u001b[0m\u001b[0;34m(\u001b[0m\u001b[0mfname\u001b[0m\u001b[0;34m,\u001b[0m \u001b[0;34m**\u001b[0m\u001b[0mkwargs\u001b[0m\u001b[0;34m)\u001b[0m\u001b[0;34m\u001b[0m\u001b[0;34m\u001b[0m\u001b[0m\n\u001b[0m\u001b[1;32m   2181\u001b[0m \u001b[0;34m\u001b[0m\u001b[0m\n\u001b[1;32m   2182\u001b[0m         \u001b[0;32mif\u001b[0m \u001b[0mframeon\u001b[0m\u001b[0;34m:\u001b[0m\u001b[0;34m\u001b[0m\u001b[0;34m\u001b[0m\u001b[0m\n",
      "\u001b[0;32m~/anaconda3/lib/python3.6/site-packages/matplotlib/backend_bases.py\u001b[0m in \u001b[0;36mprint_figure\u001b[0;34m(self, filename, dpi, facecolor, edgecolor, orientation, format, bbox_inches, **kwargs)\u001b[0m\n\u001b[1;32m   2080\u001b[0m                     \u001b[0morientation\u001b[0m\u001b[0;34m=\u001b[0m\u001b[0morientation\u001b[0m\u001b[0;34m,\u001b[0m\u001b[0;34m\u001b[0m\u001b[0;34m\u001b[0m\u001b[0m\n\u001b[1;32m   2081\u001b[0m                     \u001b[0mbbox_inches_restore\u001b[0m\u001b[0;34m=\u001b[0m\u001b[0m_bbox_inches_restore\u001b[0m\u001b[0;34m,\u001b[0m\u001b[0;34m\u001b[0m\u001b[0;34m\u001b[0m\u001b[0m\n\u001b[0;32m-> 2082\u001b[0;31m                     **kwargs)\n\u001b[0m\u001b[1;32m   2083\u001b[0m             \u001b[0;32mfinally\u001b[0m\u001b[0;34m:\u001b[0m\u001b[0;34m\u001b[0m\u001b[0;34m\u001b[0m\u001b[0m\n\u001b[1;32m   2084\u001b[0m                 \u001b[0;32mif\u001b[0m \u001b[0mbbox_inches\u001b[0m \u001b[0;32mand\u001b[0m \u001b[0mrestore_bbox\u001b[0m\u001b[0;34m:\u001b[0m\u001b[0;34m\u001b[0m\u001b[0;34m\u001b[0m\u001b[0m\n",
      "\u001b[0;32m~/anaconda3/lib/python3.6/site-packages/matplotlib/backends/backend_agg.py\u001b[0m in \u001b[0;36mprint_png\u001b[0;34m(self, filename_or_obj, metadata, pil_kwargs, *args, **kwargs)\u001b[0m\n\u001b[1;32m    528\u001b[0m             \u001b[0mrenderer\u001b[0m \u001b[0;34m=\u001b[0m \u001b[0mself\u001b[0m\u001b[0;34m.\u001b[0m\u001b[0mget_renderer\u001b[0m\u001b[0;34m(\u001b[0m\u001b[0;34m)\u001b[0m\u001b[0;34m\u001b[0m\u001b[0;34m\u001b[0m\u001b[0m\n\u001b[1;32m    529\u001b[0m             \u001b[0;32mwith\u001b[0m \u001b[0mcbook\u001b[0m\u001b[0;34m.\u001b[0m\u001b[0m_setattr_cm\u001b[0m\u001b[0;34m(\u001b[0m\u001b[0mrenderer\u001b[0m\u001b[0;34m,\u001b[0m \u001b[0mdpi\u001b[0m\u001b[0;34m=\u001b[0m\u001b[0mself\u001b[0m\u001b[0;34m.\u001b[0m\u001b[0mfigure\u001b[0m\u001b[0;34m.\u001b[0m\u001b[0mdpi\u001b[0m\u001b[0;34m)\u001b[0m\u001b[0;34m,\u001b[0m\u001b[0;31m \u001b[0m\u001b[0;31m\\\u001b[0m\u001b[0;34m\u001b[0m\u001b[0;34m\u001b[0m\u001b[0m\n\u001b[0;32m--> 530\u001b[0;31m                     \u001b[0mcbook\u001b[0m\u001b[0;34m.\u001b[0m\u001b[0mopen_file_cm\u001b[0m\u001b[0;34m(\u001b[0m\u001b[0mfilename_or_obj\u001b[0m\u001b[0;34m,\u001b[0m \u001b[0;34m\"wb\"\u001b[0m\u001b[0;34m)\u001b[0m \u001b[0;32mas\u001b[0m \u001b[0mfh\u001b[0m\u001b[0;34m:\u001b[0m\u001b[0;34m\u001b[0m\u001b[0;34m\u001b[0m\u001b[0m\n\u001b[0m\u001b[1;32m    531\u001b[0m                 _png.write_png(renderer._renderer, fh,\n\u001b[1;32m    532\u001b[0m                                self.figure.dpi, metadata=metadata)\n",
      "\u001b[0;32m~/anaconda3/lib/python3.6/contextlib.py\u001b[0m in \u001b[0;36m__enter__\u001b[0;34m(self)\u001b[0m\n\u001b[1;32m     79\u001b[0m     \u001b[0;32mdef\u001b[0m \u001b[0m__enter__\u001b[0m\u001b[0;34m(\u001b[0m\u001b[0mself\u001b[0m\u001b[0;34m)\u001b[0m\u001b[0;34m:\u001b[0m\u001b[0;34m\u001b[0m\u001b[0;34m\u001b[0m\u001b[0m\n\u001b[1;32m     80\u001b[0m         \u001b[0;32mtry\u001b[0m\u001b[0;34m:\u001b[0m\u001b[0;34m\u001b[0m\u001b[0;34m\u001b[0m\u001b[0m\n\u001b[0;32m---> 81\u001b[0;31m             \u001b[0;32mreturn\u001b[0m \u001b[0mnext\u001b[0m\u001b[0;34m(\u001b[0m\u001b[0mself\u001b[0m\u001b[0;34m.\u001b[0m\u001b[0mgen\u001b[0m\u001b[0;34m)\u001b[0m\u001b[0;34m\u001b[0m\u001b[0;34m\u001b[0m\u001b[0m\n\u001b[0m\u001b[1;32m     82\u001b[0m         \u001b[0;32mexcept\u001b[0m \u001b[0mStopIteration\u001b[0m\u001b[0;34m:\u001b[0m\u001b[0;34m\u001b[0m\u001b[0;34m\u001b[0m\u001b[0m\n\u001b[1;32m     83\u001b[0m             \u001b[0;32mraise\u001b[0m \u001b[0mRuntimeError\u001b[0m\u001b[0;34m(\u001b[0m\u001b[0;34m\"generator didn't yield\"\u001b[0m\u001b[0;34m)\u001b[0m \u001b[0;32mfrom\u001b[0m \u001b[0;32mNone\u001b[0m\u001b[0;34m\u001b[0m\u001b[0;34m\u001b[0m\u001b[0m\n",
      "\u001b[0;32m~/anaconda3/lib/python3.6/site-packages/matplotlib/cbook/__init__.py\u001b[0m in \u001b[0;36mopen_file_cm\u001b[0;34m(path_or_file, mode, encoding)\u001b[0m\n\u001b[1;32m    445\u001b[0m \u001b[0;32mdef\u001b[0m \u001b[0mopen_file_cm\u001b[0m\u001b[0;34m(\u001b[0m\u001b[0mpath_or_file\u001b[0m\u001b[0;34m,\u001b[0m \u001b[0mmode\u001b[0m\u001b[0;34m=\u001b[0m\u001b[0;34m\"r\"\u001b[0m\u001b[0;34m,\u001b[0m \u001b[0mencoding\u001b[0m\u001b[0;34m=\u001b[0m\u001b[0;32mNone\u001b[0m\u001b[0;34m)\u001b[0m\u001b[0;34m:\u001b[0m\u001b[0;34m\u001b[0m\u001b[0;34m\u001b[0m\u001b[0m\n\u001b[1;32m    446\u001b[0m     \u001b[0;34mr\"\"\"Pass through file objects and context-manage `.PathLike`\\s.\"\"\"\u001b[0m\u001b[0;34m\u001b[0m\u001b[0;34m\u001b[0m\u001b[0m\n\u001b[0;32m--> 447\u001b[0;31m     \u001b[0mfh\u001b[0m\u001b[0;34m,\u001b[0m \u001b[0mopened\u001b[0m \u001b[0;34m=\u001b[0m \u001b[0mto_filehandle\u001b[0m\u001b[0;34m(\u001b[0m\u001b[0mpath_or_file\u001b[0m\u001b[0;34m,\u001b[0m \u001b[0mmode\u001b[0m\u001b[0;34m,\u001b[0m \u001b[0;32mTrue\u001b[0m\u001b[0;34m,\u001b[0m \u001b[0mencoding\u001b[0m\u001b[0;34m)\u001b[0m\u001b[0;34m\u001b[0m\u001b[0;34m\u001b[0m\u001b[0m\n\u001b[0m\u001b[1;32m    448\u001b[0m     \u001b[0;32mif\u001b[0m \u001b[0mopened\u001b[0m\u001b[0;34m:\u001b[0m\u001b[0;34m\u001b[0m\u001b[0;34m\u001b[0m\u001b[0m\n\u001b[1;32m    449\u001b[0m         \u001b[0;32mwith\u001b[0m \u001b[0mfh\u001b[0m\u001b[0;34m:\u001b[0m\u001b[0;34m\u001b[0m\u001b[0;34m\u001b[0m\u001b[0m\n",
      "\u001b[0;32m~/anaconda3/lib/python3.6/site-packages/matplotlib/cbook/__init__.py\u001b[0m in \u001b[0;36mto_filehandle\u001b[0;34m(fname, flag, return_opened, encoding)\u001b[0m\n\u001b[1;32m    430\u001b[0m             \u001b[0mfh\u001b[0m \u001b[0;34m=\u001b[0m \u001b[0mbz2\u001b[0m\u001b[0;34m.\u001b[0m\u001b[0mBZ2File\u001b[0m\u001b[0;34m(\u001b[0m\u001b[0mfname\u001b[0m\u001b[0;34m,\u001b[0m \u001b[0mflag\u001b[0m\u001b[0;34m)\u001b[0m\u001b[0;34m\u001b[0m\u001b[0;34m\u001b[0m\u001b[0m\n\u001b[1;32m    431\u001b[0m         \u001b[0;32melse\u001b[0m\u001b[0;34m:\u001b[0m\u001b[0;34m\u001b[0m\u001b[0;34m\u001b[0m\u001b[0m\n\u001b[0;32m--> 432\u001b[0;31m             \u001b[0mfh\u001b[0m \u001b[0;34m=\u001b[0m \u001b[0mopen\u001b[0m\u001b[0;34m(\u001b[0m\u001b[0mfname\u001b[0m\u001b[0;34m,\u001b[0m \u001b[0mflag\u001b[0m\u001b[0;34m,\u001b[0m \u001b[0mencoding\u001b[0m\u001b[0;34m=\u001b[0m\u001b[0mencoding\u001b[0m\u001b[0;34m)\u001b[0m\u001b[0;34m\u001b[0m\u001b[0;34m\u001b[0m\u001b[0m\n\u001b[0m\u001b[1;32m    433\u001b[0m         \u001b[0mopened\u001b[0m \u001b[0;34m=\u001b[0m \u001b[0;32mTrue\u001b[0m\u001b[0;34m\u001b[0m\u001b[0;34m\u001b[0m\u001b[0m\n\u001b[1;32m    434\u001b[0m     \u001b[0;32melif\u001b[0m \u001b[0mhasattr\u001b[0m\u001b[0;34m(\u001b[0m\u001b[0mfname\u001b[0m\u001b[0;34m,\u001b[0m \u001b[0;34m'seek'\u001b[0m\u001b[0;34m)\u001b[0m\u001b[0;34m:\u001b[0m\u001b[0;34m\u001b[0m\u001b[0;34m\u001b[0m\u001b[0m\n",
      "\u001b[0;31mFileNotFoundError\u001b[0m: [Errno 2] No such file or directory: 'output/fit_con_incertezza.png'"
     ]
    },
    {
     "data": {
      "image/png": "[encoded data removed]",
      "text/plain": [
       "<Figure size 504x360 with 1 Axes>"
      ]
     },
     "metadata": {
      "needs_background": "light"
     },
     "output_type": "display_data"
    }
   ],
   "source": [
    "fin_result_updated=SIR_2(6*10**7,par_ideal[0]*1/14,1/14,par_ideal[1],t_thresh=par_ideal[2],I0=3*ydata_inf[0])\n",
    "\n",
    "t=fin_result_updated[0]\n",
    "s_vec=fin_result_updated[1]\n",
    "i_vec=fin_result_updated[2]\n",
    "r_vec=fin_result_updated[3]\n",
    "\n",
    "plt.figure(figsize=(7,5))\n",
    "plt.plot(np.arange(len(ydata_inf)),ydata_inf,color='red',linestyle='None',marker='.',label='Infetti attivi (dati)')\n",
    "plt.plot(t, i_vec/3, label='Infetti attivi (modello, best-fit)',color='red',linestyle='--')\n",
    "plt.fill_between(t, i_vec*(1+par_ideal[4]/100*2)/3,i_vec*(1-par_ideal[4]/100*2)/3, label='Infetti attivi (modello, 95% C.L.)',color='red',alpha=.2)\n",
    "plt.plot(np.zeros(2)+70,[-1000,250000],color='purple')\n",
    "plt.xticks(np.arange(0,100,7),['24 Feb','2 Mar','9 Mar','16 Mar','23 Mar','30 Mar','6 Apr','13 Apr','20 Apr','27 Apr','4 Mag','11 Mag','18 Mag','25 Mag','1 Giu'],rotation=30)\n",
    "plt.xlim(0,100)\n",
    "plt.ylim(100,1.2*10**5)\n",
    "#plt.yscale('log')\n",
    "plt.annotate(\"Lockdown\", xy=(14,10000), xytext=(3,40000), arrowprops=dict(arrowstyle=\"->\"),fontsize=13)\n",
    "plt.xlabel('Data')\n",
    "plt.ylabel('Counter')\n",
    "plt.legend()\n",
    "plt.grid(color='gray', linestyle='--', linewidth=0.5)\n",
    "plt.tight_layout()\n",
    "plt.savefig('fit_con_incertezza.png',dpi=300)\n",
    "plt.show()  "
   ]
  },
  {
   "cell_type": "code",
   "execution_count": null,
   "metadata": {},
   "outputs": [],
   "source": [
    "i_vec[70]*(1+par_ideal[5]/100*2),i_vec[70]*(1-par_ideal[5]/100*2)"
   ]
  },
  {
   "cell_type": "code",
   "execution_count": null,
   "metadata": {},
   "outputs": [],
   "source": [
    "plt.plot(t,s_vec)\n",
    "plt.plot(t,i_vec,label='Infetti',color='purple')\n",
    "plt.plot(t,i_vec/3,label='Sintomatici',color='red')\n",
    "plt.plot(t,r_vec,label='Rimossi',color='black')\n",
    "plt.yscale('log')\n",
    "plt.xticks(np.arange(0,100,7),['24 Feb','2 Mar','9 Mar','16 Mar','23 Mar','30 Mar','6 Apr','13 Apr','20 Apr','27 Apr','4 Mag','11 Mag','18 Mag','25 Mag','1 Giu'],rotation=30)\n",
    "plt.xlim(0,100)\n",
    "plt.ylim(200,2*10**6)\n",
    "plt.legend()\n",
    "plt.show()"
   ]
  },
  {
   "cell_type": "code",
   "execution_count": null,
   "metadata": {},
   "outputs": [],
   "source": [
    "#export\n",
    "\n",
    "t_date=pd.to_datetime(t,unit='D',origin=pd.Timestamp('2020-02-24'))\n",
    "\n",
    "export_v2 = pd.DataFrame({'date':t_date,'t':t,'s':s_vec,'i':i_vec,'r':r_vec})\n",
    "export_v2.to_csv('nazionale_v2.csv',index=False)"
   ]
  },
  {
   "cell_type": "code",
   "execution_count": null,
   "metadata": {},
   "outputs": [],
   "source": [
    "export_v2"
   ]
  },
  {
   "cell_type": "markdown",
   "metadata": {},
   "source": [
    "# computation of national R0"
   ]
  },
  {
   "cell_type": "markdown",
   "metadata": {},
   "source": [
    "### using data of last 5 days"
   ]
  },
  {
   "cell_type": "code",
   "execution_count": null,
   "metadata": {},
   "outputs": [],
   "source": [
    "today=len(xdata)\n",
    "\n",
    "def minimizer(R0,t1=today-5,t2=today):\n",
    "    \n",
    "    #true data\n",
    "    ydata_inf_2=np.array(ydata_inf[t1:t2])\n",
    "    xdata_2=np.arange(0,len(ydata_inf_2))\n",
    "    \n",
    "    #print(ydata_inf_2)\n",
    "    \n",
    "    #model\n",
    "    fin_result=SIR(60*10**6,0.1*R0,0.1,I0=ydata_inf_2[0])\n",
    "    i_vec=fin_result[2]\n",
    "    i_vec_2=i_vec[0:len(xdata_2)]\n",
    "    \n",
    "    #average error\n",
    "    error=np.sum(np.abs(ydata_inf_2-i_vec_2)/ydata_inf_2)*100\n",
    "    \n",
    "    return error\n",
    "\n",
    "minimizer_vec=np.vectorize(minimizer)\n",
    "\n",
    "\n",
    "#definition of the ideal r0\n",
    "\n",
    "xgrid=np.arange(0.01,1.3,0.01)\n",
    "ygrid=minimizer_vec(xgrid)\n",
    "r0_ideal=round(xgrid[np.argmin(ygrid)],2)\n",
    "print('r0 ',r0_ideal)\n",
    "\n",
    "plt.plot(xgrid,ygrid)\n",
    "plt.show()"
   ]
  },
  {
   "cell_type": "code",
   "execution_count": null,
   "metadata": {},
   "outputs": [],
   "source": [
    "ydata_inf_2=np.array(ydata_inf[today-5:today])\n",
    "xdata_2=np.arange(0,len(ydata_inf_2))\n",
    "\n",
    "fin_result=SIR(60*10**6,0.1*r0_ideal,0.1,I0=ydata_inf_2[0])\n",
    "\n",
    "t_R0=fin_result[0]\n",
    "#s_vec=fin_result[1]\n",
    "i_vec_R0=fin_result[2]\n",
    "#r_vec=fin_result[3]\n",
    "\n",
    "plt.figure(figsize=(5,5))\n",
    "plt.errorbar(xdata_2,ydata_inf_2,np.sqrt(ydata_inf_2),color='red',linestyle='None',marker='s',label='Infected (data)')\n",
    "plt.plot(t_R0, i_vec_R0, 'r--', label='Infected (model)')\n",
    "#plt.yscale('log')\n",
    "#plt.xticks(np.arange(14,70,7),['21 Feb','28 Feb','6 Mar','13 Mar','20 Mar','27 Mar','3 Apr','10 Apr'],rotation=30)\n",
    "plt.xlim(-0.5,4.5)\n",
    "plt.ylim(10**5,1.15*10**5)\n",
    "#plt.ylim(0,300)\n",
    "plt.xlabel('Data')\n",
    "plt.ylabel('Counter')\n",
    "plt.legend()\n",
    "plt.grid(color='gray', linestyle='--', linewidth=0.5)\n",
    "plt.title('R0='+str(r0_ideal)+' (last 5 days)')\n",
    "plt.savefig('r0-5days.png',dpi=300)\n",
    "plt.show()"
   ]
  },
  {
   "cell_type": "markdown",
   "metadata": {},
   "source": [
    "### scan of R0 over time"
   ]
  },
  {
   "cell_type": "code",
   "execution_count": null,
   "metadata": {},
   "outputs": [],
   "source": [
    "time_window=5\n",
    "\n",
    "def minimizer_gen(t1,t2,xgrid=np.arange(0.1,5,0.01)):\n",
    "\n",
    "    ygrid=minimizer_vec(xgrid,t1=t1,t2=t2)\n",
    "    r0_ideal=round(xgrid[np.argmin(ygrid)],2)\n",
    "\n",
    "    return r0_ideal\n",
    "\n",
    "r0_time=[]\n",
    "scangrid=np.linspace(0,5,100)\n",
    "\n",
    "for i in range(0,today-(time_window-1)):\n",
    "    min_val=minimizer_gen(i,i+time_window,xgrid=scangrid)\n",
    "    r0_time.append(min_val)\n",
    "    scangrid=np.linspace(0,min_val+1,100)  #the grid change over the time (this speed up the process)\n",
    "    print('Day n',i,' R0=',min_val)\n",
    "    print(i,i+time_window,len(ydata_inf))\n",
    "    \n",
    "r0_time=np.array(r0_time)"
   ]
  },
  {
   "cell_type": "code",
   "execution_count": null,
   "metadata": {},
   "outputs": [],
   "source": [
    "plt.figure(figsize=(5,5))\n",
    "plt.plot(r0_time)\n",
    "plt.xticks(np.arange(0-(time_window-5),55,7),['28 Feb','6 Mar','13 Mar','20 Mar','27 Mar','3 Apr','10 Apr','17 Apr'],rotation=20)\n",
    "plt.xlim(0,today-4)\n",
    "#plt.xlim(19,today-9)\n",
    "plt.ylabel('$R_0$')\n",
    "plt.ylim(0,5)\n",
    "plt.grid()\n",
    "plt.title('Evolution of $R_0$')\n",
    "#plt.savefig('output3/r0-evo.png',dpi=300)\n",
    "plt.show()"
   ]
  },
  {
   "cell_type": "code",
   "execution_count": null,
   "metadata": {},
   "outputs": [],
   "source": [
    "# export R0 over time\n",
    "\n",
    "df_r0=pd.DataFrame(pd.to_datetime(np.arange(len(r0_time)),unit='D',origin='2020-02-28'))\n",
    "df_r0['R0']=r0_time\n",
    "df_r0.columns=['Data','R0']\n",
    "\n",
    "df_r0.to_csv('r0.csv',index=False)"
   ]
  },
  {
   "cell_type": "code",
   "execution_count": null,
   "metadata": {},
   "outputs": [],
   "source": [
    "plt.figure(figsize=(12,10))\n",
    "plt.subplot(2,2,1)\n",
    "plt.plot(np.arange(len(ydata)),ydata,label='Totale casi')\n",
    "plt.plot(np.arange(len(ydata)),ydata_death,label='Deceduti totali')\n",
    "plt.plot(np.arange(len(ydata)),ydata_rec,label='Guariti totali')\n",
    "plt.xticks(np.arange(0,100,7),['24 Feb','2 Mar','9 Mar','16 Mar','23 Mar','30 Mar','6 Apr','13 Apr','20 Apr','27 Apr','4 Mag','11 Mag','18 Mag','25 Mag','1 Giu'],rotation=30)\n",
    "plt.xlim(0,len(ydata))\n",
    "plt.ylabel('Numero')\n",
    "plt.title('Curve cumulative')\n",
    "plt.legend()\n",
    "plt.grid(color='gray', linestyle='--', linewidth=0.5)\n",
    "plt.subplot(2,2,2)\n",
    "plt.plot(np.arange(len(ydata_incr)),ydata_incr,label='Nuovi casi')\n",
    "plt.plot(np.arange(len(ydata_incr)),ydata_death_incr,label='Deceduti giornalieri')\n",
    "plt.plot(np.arange(len(ydata_incr)),ydata_rec_incr,label='Guariti giornalieri')\n",
    "plt.xticks(np.arange(-1,100,7),['24 Feb','2 Mar','9 Mar','16 Mar','23 Mar','30 Mar','6 Apr','13 Apr','20 Apr','27 Apr','4 Mag','11 Mag','18 Mag','25 Mag','1 Giu'],rotation=30)\n",
    "plt.xlim(-1,len(ydata_incr))\n",
    "plt.ylabel('Numero')\n",
    "plt.title('Curve incrementali')\n",
    "plt.legend()\n",
    "plt.grid(color='gray', linestyle='--', linewidth=0.5)\n",
    "plt.subplot(2,2,3)\n",
    "plt.plot(np.arange(len(ydata_inf)),ydata_inf,color='red',linestyle='None',marker='.',label='Infetti attivi (dati)')\n",
    "plt.plot(t, i_vec/3, label='Infetti attivi (modello, best-fit)',color='red',linestyle='--')\n",
    "plt.fill_between(t, i_vec*(1+par_ideal[5]/100*2)/3,i_vec*(1-par_ideal[5]/100*2)/3, label='Infetti attivi (modello, 95% C.L.)',color='red',alpha=.2)\n",
    "plt.plot(np.zeros(2)+70,[-1000,140000],color='brown')\n",
    "plt.xticks(np.arange(0,100,7),['24 Feb','2 Mar','9 Mar','16 Mar','23 Mar','30 Mar','6 Apr','13 Apr','20 Apr','27 Apr','4 Mag','11 Mag','18 Mag','25 Mag','1 Giu'],rotation=30)\n",
    "plt.xlim(0,100)\n",
    "plt.ylim(0,140000)\n",
    "plt.annotate(\"Lockdown\", xy=(14,10000), xytext=(3,40000), arrowprops=dict(arrowstyle=\"->\"),fontsize=13)\n",
    "plt.title('Curva cumulativa degli infetti attivi')\n",
    "plt.ylabel('Numero')\n",
    "plt.legend()\n",
    "plt.grid(color='gray', linestyle='--', linewidth=0.5)\n",
    "plt.subplot(2,2,4)\n",
    "plt.plot(r0_time,color='purple')\n",
    "plt.xticks(np.arange(0-time_window+1,100,7),['24 Feb','2 Mar','9 Mar','16 Mar','23 Mar','30 Mar','6 Apr','13 Apr','20 Apr','27 Apr','4 Mag','11 Mag','18 Mag','25 Mag','1 Giu'],rotation=30)\n",
    "plt.xlim(0,today-4)\n",
    "#plt.xlim(19,today-9)\n",
    "plt.ylabel('$R_0$')\n",
    "plt.ylim(0,5)\n",
    "plt.grid(color='gray', linestyle='--', linewidth=0.5)\n",
    "plt.title('Evoluzione di $R_0$')\n",
    "plt.tight_layout()\n",
    "plt.savefig('4plots.png',dpi=300)"
   ]
  },
  {
   "cell_type": "code",
   "execution_count": null,
   "metadata": {},
   "outputs": [],
   "source": []
  },
  {
   "cell_type": "code",
   "execution_count": null,
   "metadata": {},
   "outputs": [],
   "source": []
  }
 ],
 "metadata": {
  "kernelspec": {
   "display_name": "Python 3",
   "language": "python",
   "name": "python3"
  },
  "language_info": {
   "codemirror_mode": {
    "name": "ipython",
    "version": 3
   },
   "file_extension": ".py",
   "mimetype": "text/x-python",
   "name": "python",
   "nbconvert_exporter": "python",
   "pygments_lexer": "ipython3",
   "version": "3.6.10"
  }
 },
 "nbformat": 4,
 "nbformat_minor": 2
}
